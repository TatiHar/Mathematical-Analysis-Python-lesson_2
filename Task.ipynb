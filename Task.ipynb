{
 "cells": [
  {
   "cell_type": "markdown",
   "id": "1ff676e5",
   "metadata": {},
   "source": [
    "# Последовательность"
   ]
  },
  {
   "cell_type": "markdown",
   "id": "f2429b21",
   "metadata": {},
   "source": [
    "Задание 2"
   ]
  },
  {
   "cell_type": "code",
   "execution_count": 3,
   "id": "ec3ad33a",
   "metadata": {},
   "outputs": [
    {
     "name": "stdout",
     "output_type": "stream",
     "text": [
      "194\n"
     ]
    }
   ],
   "source": [
    "a1=128\n",
    "d=6\n",
    "\n",
    "a12=a1+(12-1)*d\n",
    "print(a12)"
   ]
  },
  {
   "cell_type": "markdown",
   "id": "58172501",
   "metadata": {},
   "source": [
    "Задание 1"
   ]
  },
  {
   "cell_type": "code",
   "execution_count": 5,
   "id": "ca06f028",
   "metadata": {},
   "outputs": [],
   "source": [
    "def monotony(sequence):\n",
    "    for i in range(1, len(sequence)):\n",
    "        if sequence[i] > sequence[i-1]:\n",
    "            return 'Монотонно возрастает'\n",
    "        elif sequence[i] < sequence[i-1]:\n",
    "            return 'Монотонно убывает'\n",
    "        else:\n",
    "            return 'Не изменяетя'"
   ]
  },
  {
   "cell_type": "markdown",
   "id": "c9a33048",
   "metadata": {},
   "source": [
    "1."
   ]
  },
  {
   "cell_type": "code",
   "execution_count": 12,
   "id": "c71225fc",
   "metadata": {},
   "outputs": [
    {
     "name": "stdout",
     "output_type": "stream",
     "text": [
      "Монотонно возрастает\n",
      "Ислледовать на ограничесннность: \n",
      "[1, 5, 27, 121, 503, 2037, 8179, 32753]\n",
      "5 по счёту: 503\n"
     ]
    }
   ],
   "source": [
    "def f1(n):\n",
    "    return 2 ** n - n\n",
    "\n",
    "ns = list(range(1,16,2))\n",
    "elements = list(map(f1, ns))\n",
    "\n",
    "print(monotony(elements))\n",
    "print(f'Ислледовать на ограничесннность: \\n{elements}')\n",
    "print(f'5 по счёту: {f1(ns[4])}')"
   ]
  },
  {
   "cell_type": "markdown",
   "id": "b143983d",
   "metadata": {},
   "source": [
    "2."
   ]
  },
  {
   "cell_type": "code",
   "execution_count": 21,
   "id": "eeb85af7",
   "metadata": {},
   "outputs": [
    {
     "name": "stdout",
     "output_type": "stream",
     "text": [
      "Монотонно убывает\n",
      "Ислледовать на ограничесннность: \n",
      "[1.0, 0.5, 0.3333333333333333, 0.25, 0.2, 0.16666666666666666, 0.14285714285714285, 0.125, 0.1111111111111111, 0.1, 0.09090909090909091, 0.08333333333333333, 0.07692307692307693]\n",
      "5 по счёту: 58\n"
     ]
    }
   ],
   "source": [
    "def f2(n):\n",
    "    return 1 / (n - 1)\n",
    "\n",
    "ns = list(range(2,15,1))\n",
    "elements = list(map(f2, ns))\n",
    "\n",
    "print(monotony(elements))\n",
    "print(f'Ислледовать на ограничесннность: \\n{elements}')\n",
    "print(f'5 по счёту: {f1(ns[4])}')"
   ]
  },
  {
   "cell_type": "markdown",
   "id": "e6ff918c",
   "metadata": {},
   "source": [
    "4."
   ]
  },
  {
   "cell_type": "code",
   "execution_count": 26,
   "id": "7101ae9f",
   "metadata": {},
   "outputs": [
    {
     "name": "stdout",
     "output_type": "stream",
     "text": [
      "Монотонно убывает\n",
      "Ислледовать на ограничесннность: \n",
      "[2.0, 1.25, 1.1111111111111112, 1.0625, 1.04, 1.0277777777777777, 1.0204081632653061, 1.015625, 1.0123456790123457, 1.01, 1.0082644628099173, 1.0069444444444444]\n",
      "5 по счёту: 27\n"
     ]
    }
   ],
   "source": [
    "def f4(n):\n",
    "    return (-1) ** (2 * n) + 1 / (n ** 2)\n",
    "\n",
    "ns = list(range(1, 13, 1))\n",
    "elements = list(map(f4, ns))\n",
    "\n",
    "print(monotony(elements))\n",
    "print(f'Ислледовать на ограничесннность: \\n{elements}')\n",
    "print(f'5 по счёту: {f1(ns[4])}')"
   ]
  }
 ],
 "metadata": {
  "kernelspec": {
   "display_name": "Python 3 (ipykernel)",
   "language": "python",
   "name": "python3"
  },
  "language_info": {
   "codemirror_mode": {
    "name": "ipython",
    "version": 3
   },
   "file_extension": ".py",
   "mimetype": "text/x-python",
   "name": "python",
   "nbconvert_exporter": "python",
   "pygments_lexer": "ipython3",
   "version": "3.9.7"
  }
 },
 "nbformat": 4,
 "nbformat_minor": 5
}
